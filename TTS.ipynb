{
 "cells": [
  {
   "cell_type": "code",
   "execution_count": null,
   "metadata": {},
   "outputs": [],
   "source": [
    "import os\n",
    "os.environ['GOOGLE_APPLICATION_CREDENTIALS'] = 'imagespeak-0a610c7b4031'\n"
   ]
  },
  {
   "cell_type": "code",
   "execution_count": null,
   "metadata": {},
   "outputs": [],
   "source": [
    "def tts(text):\n",
    "    from google.cloud import texttospeech\n",
    "\n",
    "    client = texttospeech.TextToSpeechClient()\n",
    "    max_length = 200  # 지나치게 길면 에러발생\n",
    "\n",
    "    #마침표 기준으로 문장 분리\n",
    "    words = text.split('. ')\n",
    "    sentences = []\n",
    "    cur_sentence = ''\n",
    "\n",
    "    for word in words:\n",
    "        if len(cur_sentence + word) <= max_length:\n",
    "            cur_sentence += word + ' '\n",
    "        else:\n",
    "            sentences.append(cur_sentence.strip()+'.')\n",
    "            cur_sentence = word + ' '\n",
    "\n",
    "    if cur_sentence:\n",
    "        sentences.append(cur_sentence.strip() + '.')\n",
    "\n",
    "    audio_data = []\n",
    "\n",
    "    # 문장 개수 단위로 텍스트 변환\n",
    "    for sentence in sentences:\n",
    "        input = texttospeech.SynthesisInput(text=sentence)\n",
    "\n",
    "        #오디오 설정\n",
    "        voice = texttospeech.VoiceSelectionParams(\n",
    "            language_code=\"ko-KR\",\n",
    "            name=\"ko-KR-Neural2-C\",\n",
    "            ssml_gender=texttospeech.SsmlVoiceGender.NEUTRAL,\n",
    "        )\n",
    "\n",
    "        audio_config = texttospeech.AudioConfig(\n",
    "            audio_encoding=texttospeech.AudioEncoding.MP3\n",
    "        )\n",
    "        response = client.synthesize_speech(\n",
    "            request={\"input\": input,\n",
    "                     \"voice\": voice,\n",
    "                     \"audio_config\": audio_config\n",
    "                     }\n",
    "        )\n",
    "\n",
    "        audio_data.append(response.audio_content)\n",
    "\n",
    "    audio_data = b\"\".join(audio_data)\n",
    "\n",
    "    #audio 폴더 안에 output.mp3 이름으로 파일생성\n",
    "    with open(\"audio/output.mp3\", \"wb\") as out:\n",
    "        out.write(audio_data)\n",
    "        print('오디오 파일 생성')\n"
   ]
  },
  {
   "cell_type": "code",
   "execution_count": null,
   "metadata": {},
   "outputs": [],
   "source": [
    "tts(\"안녕하세요, 이건 tts 변환 예제 코드 테스트 문장입니다.\")\n"
   ]
  }
 ],
 "metadata": {
  "language_info": {
   "name": "python"
  }
 },
 "nbformat": 4,
 "nbformat_minor": 2
}
